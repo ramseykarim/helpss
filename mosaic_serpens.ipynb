{
 "cells": [
  {
   "cell_type": "markdown",
   "metadata": {},
   "source": [
    "# Make a mosiac of Aqu-East and Ser-Main\n",
    "## Created by Ramsey Karim on July 27, 2022\n",
    "\n",
    "The goal here is to see if Ser-Main (obsID 1342206676) is salvageable despite the histogram that shows several competitive offset peaks.\n",
    "Aqu-East has a well defined offset and is adjacent to Ser-Main, so we will try a couple different Ser-Main offsets and make mosaics with the calibrated Aqu-East map and see which is more continuous along the shared edge. Ideally, the \"correct\" offset will show no major jump across the observation boundary.\n",
    "\n",
    "This file (currently) resides in the `helpss_scratch_work` directory which is my GitHub repo for HELPSS work, but I will run this file via softlink from the Ser-Main directory: `/n/sgraraid/filaments/Serpens-Aquila/Herschel/processed/1342206676`. **If this notebook is not run from that directory, it will not work correctly!**"
   ]
  },
  {
   "cell_type": "code",
   "execution_count": null,
   "metadata": {},
   "outputs": [],
   "source": [
    "# Get the filenames for the 160 micron observations\n",
    "import glob\n",
    "import os.path\n",
    "\n",
    "ser_main_fn = os.path.abspath(glob.glob(\"PACS160um-im*-conv.fits\").pop())\n",
    "aqu_east_fn = os.path.abspath(glob.glob(\"../1342206694/PACS160um-im*-conv.fits\").pop())"
   ]
  },
  {
   "cell_type": "markdown",
   "metadata": {},
   "source": [
    "The game here is that we will make 2 mosaics, one for each potentially viable Ser-Main offset. The two possible Ser-Main offsets are approximatly 100 and 120. From the difference map shown below, we see that 120 corresponds to a broad area surrounding the bright emission, and 100 corresponds to the bright emission region."
   ]
  },
  {
   "cell_type": "code",
   "execution_count": null,
   "metadata": {},
   "outputs": [],
   "source": [
    "# Gather the offsets to be used (the images selected above are uncalibrated but have offsets identified)\n",
    "offset_aqu_east = 213.4 # from the summary_table.txt\n",
    "offset_ser_main = 150.0 # select either 100.0 or 120.0 from the images below\n",
    "\n",
    "from IPython.display import Image\n",
    "Image(\"Difference_Histogram_PACS160um.png\")"
   ]
  },
  {
   "cell_type": "code",
   "execution_count": null,
   "metadata": {},
   "outputs": [],
   "source": [
    "Image(\"Predicted_and_Observed_Flux_PACS160um.png\")"
   ]
  },
  {
   "cell_type": "code",
   "execution_count": null,
   "metadata": {},
   "outputs": [],
   "source": [
    "# Load the files and add the offsets\n",
    "from astropy.io import fits\n",
    "\n",
    "with fits.open(aqu_east_fn) as hdul:\n",
    "    aqu_east_hdu = hdul[0].copy()\n",
    "aqu_east_hdu.data += offset_aqu_east\n",
    "with fits.open(ser_main_fn) as hdul:\n",
    "    ser_main_hdu = hdul[0].copy()\n",
    "ser_main_hdu.data += offset_ser_main"
   ]
  },
  {
   "cell_type": "code",
   "execution_count": null,
   "metadata": {},
   "outputs": [],
   "source": [
    "# Compute the mosaic WCS\n",
    "from reproject.mosaicking import find_optimal_celestial_wcs\n",
    "\n",
    "mosaic_wcs, mosaic_shape = find_optimal_celestial_wcs([aqu_east_hdu, ser_main_hdu])\n",
    "print(\"Mosaic shape\", mosaic_shape)"
   ]
  },
  {
   "cell_type": "code",
   "execution_count": null,
   "metadata": {},
   "outputs": [],
   "source": [
    "# Mosaic and save the result\n",
    "savename = f\"mosaic_AquEast_SerMain_offset_{offset_ser_main:.1f}.fits\"\n",
    "header = mosaic_wcs.to_header()\n",
    "header['AUTHOR'] = \"Ramsey Karim, July 27, 2022\"\n",
    "header['COMMENT'] = \"Mosaic of Ser-Main and Aqu-East\"\n",
    "header['COMMENT'] = f\"Aqu-East offset {offset_aqu_east:.1f}, Ser-Main offset {offset_ser_main:.1f}\"\n",
    "\n",
    "from reproject import reproject_interp\n",
    "from reproject.mosaicking import reproject_and_coadd\n",
    "\n",
    "mosaic_array, footprint = reproject_and_coadd([aqu_east_hdu, ser_main_hdu], mosaic_wcs, shape_out=mosaic_shape,\n",
    "                                             reproject_function=reproject_interp, match_background=False)\n",
    "save_hdu = fits.PrimaryHDU(data=mosaic_array, header=header)\n",
    "save_hdu.writeto(savename)"
   ]
  }
 ],
 "metadata": {
  "kernelspec": {
   "display_name": "Python 3",
   "language": "python",
   "name": "python3"
  },
  "language_info": {
   "codemirror_mode": {
    "name": "ipython",
    "version": 3
   },
   "file_extension": ".py",
   "mimetype": "text/x-python",
   "name": "python",
   "nbconvert_exporter": "python",
   "pygments_lexer": "ipython3",
   "version": "3.7.3"
  }
 },
 "nbformat": 4,
 "nbformat_minor": 2
}
