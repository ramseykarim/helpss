{
 "cells": [
  {
   "cell_type": "markdown",
   "metadata": {},
   "source": [
    "# Preprocess the Herschel photometry\n",
    "### Ramsey Karim, July 26, 2022\n",
    "\n",
    "This code serves the same purpose as Tracy's IDL preprocessing routines, but is written specifically for the HGBS Lupus I moonlight corrected images since they do not come in the standard archive format and do not have error maps on the exact same grids."
   ]
  },
  {
   "cell_type": "code",
   "execution_count": 1,
   "metadata": {},
   "outputs": [],
   "source": [
    "import numpy as np\n",
    "import matplotlib.pyplot as plt"
   ]
  },
  {
   "cell_type": "code",
   "execution_count": 2,
   "metadata": {},
   "outputs": [
    {
     "name": "stdout",
     "output_type": "stream",
     "text": [
      "SPIRE250um -> /an/sgra~raid/filaments/LupusI-HGBcorrected/processed/SPIRE250um-image.fits\n",
      "SPIRE500um -> /an/sgra~raid/filaments/LupusI-HGBcorrected/processed/SPIRE500um-image.fits\n",
      "PACS160um -> /an/sgra~raid/filaments/LupusI-HGBcorrected/processed/PACS160um-image.fits\n",
      "SPIRE350um -> /an/sgra~raid/filaments/LupusI-HGBcorrected/processed/SPIRE350um-image.fits\n"
     ]
    }
   ],
   "source": [
    "import os.path\n",
    "import glob\n",
    "\n",
    "img_stub = \"-image.fits\"\n",
    "filename_list = glob.glob(\"*\" + img_stub)\n",
    "filename_dict = {f.replace(img_stub, ''): os.path.abspath(f) for f in filename_list}\n",
    "\n",
    "del filename_list\n",
    "\n",
    "for f in filename_dict:\n",
    "    print(f, \"->\", filename_dict[f])"
   ]
  },
  {
   "cell_type": "code",
   "execution_count": 3,
   "metadata": {},
   "outputs": [],
   "source": [
    "# Regrid the maps to the 500um grid\n",
    "from astropy.io import fits\n",
    "from reproject import reproject_interp\n",
    "\n",
    "ref_band = 'SPIRE500um'\n",
    "ref_header = fits.getheader(filename_dict[ref_band])\n",
    "\n",
    "raw_band = 'SPIRE350um'\n",
    "regridded_img = reproject_interp(filename_dict[raw_band], ref_header, return_footprint=False)"
   ]
  },
  {
   "cell_type": "code",
   "execution_count": 4,
   "metadata": {},
   "outputs": [],
   "source": [
    "# Save the regridded image\n",
    "from astropy.wcs import WCS\n",
    "savename = filename_dict[raw_band].replace('.fits', '-remapped.fits')\n",
    "header = fits.getheader(filename_dict[raw_band])\n",
    "header.update(WCS(ref_header).to_header())\n",
    "header['HISTORY'] = f\"Regridded to {ref_band} grid by Ramsey Karim, 2022-07-26\"\n",
    "new_hdu = fits.PrimaryHDU(data=regridded_img, header=header)\n",
    "new_hdu.writeto(savename)"
   ]
  },
  {
   "cell_type": "markdown",
   "metadata": {},
   "source": [
    "For the convolution, I need the beam sizes of the maps. These are not listed in the FITS headers of these particular files, but we can get them from the [PACS Observer's Manual](https://www.cosmos.esa.int/documents/12133/996891/PACS+Observers'+Manual) (Section 3.1) and the [SPIRE Handbook](https://www.cosmos.esa.int/documents/12133/1035800/The+Herschel+Explanatory+Supplement%2C%20Volume+IV+-+THE+SPECTRAL+AND+PHOTOMETRIC+IMAGING+RECEIVER+%28SPIRE%29/c36d074d-32b4-48ec-b13f-4ca320788df3) (Section 5, Table 5.2 in version 3.2).\n",
    "\n",
    "For PACS, I am assuming that all observations were taken at a scan speed of 60 arcsec/sec and in Parallel Mode, since this has been the case for almost all other observations we've processed. The FITS files given to us do not list the scan velocity or observing mode.\n",
    "For SPIRE, I will just take the circular beam FWHMs that Tracy put in his ConvolveHerschelImages.pro code: 18.1, 24.9, and 36.4 arcsec."
   ]
  },
  {
   "cell_type": "code",
   "execution_count": 5,
   "metadata": {},
   "outputs": [],
   "source": [
    "from radio_beam import Beam\n",
    "from astropy.convolution import convolve\n",
    "from astropy import units as u\n",
    "\n",
    "beam_params_dict = {\n",
    "    # major (as), minor (as), PA (deg)\n",
    "    'PACS70um': (12.16, 5.86, 63.0),\n",
    "    'PACS160um': (15.65, 11.64, 53.4),\n",
    "    \n",
    "    'SPIRE250um': (18.1,),\n",
    "    'SPIRE350um': (24.9,),\n",
    "    'SPIRE500um': (36.4,),\n",
    "}\n",
    "def get_beam(band_stub):\n",
    "    \"\"\"\n",
    "    :param band_stub: string like \"PACS70um\" which identifies the band\n",
    "    :returns: Beam\n",
    "    \"\"\"\n",
    "    beam_params = beam_params_dict[band_stub]\n",
    "    if len(beam_params) > 1:\n",
    "        # PACS, elliptical\n",
    "        return Beam(major=beam_params[0]*u.arcsec, minor=beam_params[1]*u.arcsec, pa=beam_params[2]*u.deg)\n",
    "    else:\n",
    "        # SPIRE, circular\n",
    "        return Beam(beam_params[0]*u.arcsec)\n",
    "\n",
    "beam_raw = get_beam(raw_band)\n",
    "beam_ref = get_beam(ref_band)"
   ]
  },
  {
   "cell_type": "code",
   "execution_count": 6,
   "metadata": {},
   "outputs": [],
   "source": [
    "# Get the beam with which we should convolve the 250\n",
    "conv_beam = beam_ref.deconvolve(beam_raw)\n",
    "\n",
    "pixel_scale = (-1*ref_header['CDELT1']*u.deg).to(u.arcsec)\n",
    "conv_kernel = conv_beam.as_kernel(pixel_scale)\n",
    "\n",
    "conv_img = convolve(regridded_img, conv_kernel, preserve_nan=True)"
   ]
  },
  {
   "cell_type": "code",
   "execution_count": 7,
   "metadata": {},
   "outputs": [],
   "source": [
    "# Save the convolved image\n",
    "savename = filename_dict[raw_band].replace('.fits', '-remapped-conv.fits')\n",
    "header = fits.getheader(filename_dict[raw_band])\n",
    "header.update(WCS(ref_header).to_header())\n",
    "header['HISTORY'] = f\"Regridded to {ref_band} grid by Ramsey Karim, 2022-07-26\"\n",
    "header['HISTORY'] = f\"Convolved to {ref_band} resolution by Ramsey Karim, 2022-07-26\"\n",
    "new_hdu = fits.PrimaryHDU(data=conv_img, header=header)\n",
    "new_hdu.writeto(savename)"
   ]
  },
  {
   "cell_type": "markdown",
   "metadata": {},
   "source": [
    "## I ran this code on July 26, 2022\n",
    "It worked fine, it's a little messy but it does the job. I don't anticipate using this more than 2 more times (on the 160 and 350 micron maps when we get them)."
   ]
  }
 ],
 "metadata": {
  "kernelspec": {
   "display_name": "Python 3",
   "language": "python",
   "name": "python3"
  },
  "language_info": {
   "codemirror_mode": {
    "name": "ipython",
    "version": 3
   },
   "file_extension": ".py",
   "mimetype": "text/x-python",
   "name": "python",
   "nbconvert_exporter": "python",
   "pygments_lexer": "ipython3",
   "version": "3.7.3"
  }
 },
 "nbformat": 4,
 "nbformat_minor": 2
}
